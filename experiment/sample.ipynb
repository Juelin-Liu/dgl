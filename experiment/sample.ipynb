{
 "cells": [
  {
   "cell_type": "code",
   "execution_count": 1,
   "id": "d6b0b585-9bdc-4c93-8831-e27aa780e176",
   "metadata": {},
   "outputs": [],
   "source": [
    "from dgl.dev import *\n",
    "from node.utils import Config, load_topo, Timer"
   ]
  },
  {
   "cell_type": "code",
   "execution_count": 2,
   "id": "d69412cf-08a6-4e4a-8ab8-7f02f983bacf",
   "metadata": {},
   "outputs": [
    {
     "name": "stdout",
     "output_type": "stream",
     "text": [
      "Start graph topology loading\n",
      "load idx split from /data/juelin/dataset/gsplit/friendster\n"
     ]
    }
   ],
   "source": [
    "\n",
    "graph_name = \"friendster\"\n",
    "use_bitmap=False\n",
    "UseBitmap(use_bitmap)\n",
    "\n",
    "config = Config(graph_name=graph_name,\n",
    "                   world_size=1,\n",
    "                   num_epoch=1,\n",
    "                   fanouts=[15,15,15],\n",
    "                   batch_size=256,\n",
    "                   system=\"dgl\",\n",
    "                   model=\"sage\",\n",
    "                   cache_size=\"0GB\",\n",
    "                   hid_size=256,\n",
    "                   log_path=\"./log\",\n",
    "                   data_dir=\"/data/juelin/dataset/gsplit\")\n",
    "\n",
    "graph, train_idx, valid_idx, test_idx = load_topo(config, True)"
   ]
  },
  {
   "cell_type": "code",
   "execution_count": 3,
   "id": "af90dd68-15ab-4912-aedd-2dddec1251d2",
   "metadata": {},
   "outputs": [],
   "source": [
    "sample_config = SampleConfig(rank=0, batch_size=config.batch_size * config.world_size, world_size=config.world_size, mode=\"uva\", fanouts=config.fanouts, reindex=True, drop_last=True)\n",
    "dataloader = GraphDataloader(graph, train_idx, sample_config)"
   ]
  },
  {
   "cell_type": "code",
   "execution_count": 4,
   "id": "9ea2b5da-4ade-46df-b448-2a72ed4537f8",
   "metadata": {},
   "outputs": [],
   "source": [
    "timer = Timer()\n",
    "for input_nodes, output_nodes, blocks in dataloader:\n",
    "    continue\n",
    "    \n",
    "duration = timer.duration(2)"
   ]
  },
  {
   "cell_type": "code",
   "execution_count": 5,
   "id": "efd7ab44-36b6-46c6-aad0-af3df242085f",
   "metadata": {},
   "outputs": [
    {
     "name": "stdout",
     "output_type": "stream",
     "text": [
      "graph_name='friendster' use_bitmap=False duration=122.29secs reserved = 310.0MB allocated = 104.8MB\n"
     ]
    }
   ],
   "source": [
    "import torch\n",
    "reserved = torch.cuda.memory_reserved()\n",
    "allocated = torch.cuda.memory_allocated()\n",
    "\n",
    "def get_size(s):\n",
    "    return f\"{round(s / 1024 / 1024, 1)}MB\"\n",
    "\n",
    "print(f\"{graph_name=} {use_bitmap=} {duration=}secs reserved = {get_size(reserved)} allocated = {get_size(allocated)}\")"
   ]
  },
  {
   "cell_type": "code",
   "execution_count": 6,
   "id": "4a38d799-9c92-4c7f-ada4-cf18ec7072d2",
   "metadata": {},
   "outputs": [],
   "source": [
    "# graph_name='products' use_bitmap=True duration=3.65secs reserved = 72.0MB allocated = 24.4MB\n",
    "# graph_name='products' use_bitmap=False duration=4.18secs reserved = 254.0MB allocated = 28.5MB\n",
    "\n",
    "# graph_name='orkut' use_bitmap=True duration=5.82secs reserved = 96.0MB allocated = 27.6MB\n",
    "# graph_name='orkut' use_bitmap=False duration=6.82secs reserved = 250.0MB allocated = 29.5MB\n",
    "\n",
    "# graph_name='papers100M' use_bitmap=False duration=11.67secs reserved = 86.0MB allocated = 20.4MB\n",
    "# graph_name='papers100M' use_bitmap=True duration=21.22secs reserved = 90.0MB allocated = 20.2MB\n",
    "\n",
    "# graph_name='friendster' use_bitmap=False duration=122.29secs reserved = 310.0MB allocated = 104.8MB\n",
    "# graph_name='friendster' use_bitmap=True duration=136.35secs reserved = 194.0MB allocated = 104.9MB\n"
   ]
  },
  {
   "cell_type": "code",
   "execution_count": null,
   "id": "e198ee3a-0246-4197-b3dc-cc68365c54a1",
   "metadata": {},
   "outputs": [],
   "source": []
  }
 ],
 "metadata": {
  "kernelspec": {
   "display_name": "Python 3 (ipykernel)",
   "language": "python",
   "name": "python3"
  },
  "language_info": {
   "codemirror_mode": {
    "name": "ipython",
    "version": 3
   },
   "file_extension": ".py",
   "mimetype": "text/x-python",
   "name": "python",
   "nbconvert_exporter": "python",
   "pygments_lexer": "ipython3",
   "version": "3.11.7"
  }
 },
 "nbformat": 4,
 "nbformat_minor": 5
}
